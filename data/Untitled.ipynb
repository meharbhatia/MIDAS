{
 "cells": [
  {
   "cell_type": "code",
   "execution_count": 89,
   "metadata": {
    "collapsed": false
   },
   "outputs": [
    {
     "name": "stdout",
     "output_type": "stream",
     "text": [
      "1 1672\n",
      "2 1278\n",
      "3 1891\n",
      "4 1738\n",
      "5 1795\n",
      "6 1797\n",
      "7 1799\n",
      "8 1799\n",
      "9 1798\n",
      "10 1640\n"
     ]
    }
   ],
   "source": [
    "import pandas as pd\n",
    "df = pd.read_csv(\"train.tsv\", sep='\\t', encoding=\"utf-8\")\n",
    "# print(df[1])\n",
    "# counter=0\n",
    "for num in range(1, 10):\n",
    "    counter = 0\n",
    "    for indX in df['EssaySet']:\n",
    "#     print(indX)\n",
    "        if indX == num:\n",
    "            counter+=1\n",
    "    print(num, counter)\n"
   ]
  },
  {
   "cell_type": "code",
   "execution_count": 8,
   "metadata": {
    "collapsed": false
   },
   "outputs": [
    {
     "data": {
      "text/html": [
       "<div>\n",
       "<style scoped>\n",
       "    .dataframe tbody tr th:only-of-type {\n",
       "        vertical-align: middle;\n",
       "    }\n",
       "\n",
       "    .dataframe tbody tr th {\n",
       "        vertical-align: top;\n",
       "    }\n",
       "\n",
       "    .dataframe thead th {\n",
       "        text-align: right;\n",
       "    }\n",
       "</style>\n",
       "<table border=\"1\" class=\"dataframe\">\n",
       "  <thead>\n",
       "    <tr style=\"text-align: right;\">\n",
       "      <th></th>\n",
       "      <th>Id</th>\n",
       "      <th>EssaySet</th>\n",
       "      <th>Score1</th>\n",
       "      <th>Score2</th>\n",
       "      <th>EssayText</th>\n",
       "    </tr>\n",
       "  </thead>\n",
       "  <tbody>\n",
       "    <tr>\n",
       "      <th>0</th>\n",
       "      <td>1</td>\n",
       "      <td>1</td>\n",
       "      <td>1</td>\n",
       "      <td>1</td>\n",
       "      <td>Some additional information that we would need...</td>\n",
       "    </tr>\n",
       "    <tr>\n",
       "      <th>1</th>\n",
       "      <td>2</td>\n",
       "      <td>1</td>\n",
       "      <td>1</td>\n",
       "      <td>1</td>\n",
       "      <td>After reading the expirement, I realized that ...</td>\n",
       "    </tr>\n",
       "    <tr>\n",
       "      <th>2</th>\n",
       "      <td>3</td>\n",
       "      <td>1</td>\n",
       "      <td>1</td>\n",
       "      <td>1</td>\n",
       "      <td>What you need is more trials, a control set up...</td>\n",
       "    </tr>\n",
       "    <tr>\n",
       "      <th>3</th>\n",
       "      <td>4</td>\n",
       "      <td>1</td>\n",
       "      <td>0</td>\n",
       "      <td>0</td>\n",
       "      <td>The student should list what rock is better an...</td>\n",
       "    </tr>\n",
       "    <tr>\n",
       "      <th>4</th>\n",
       "      <td>5</td>\n",
       "      <td>1</td>\n",
       "      <td>2</td>\n",
       "      <td>2</td>\n",
       "      <td>For the students to be able to make a replicat...</td>\n",
       "    </tr>\n",
       "  </tbody>\n",
       "</table>\n",
       "</div>"
      ],
      "text/plain": [
       "   Id  EssaySet  Score1  Score2  \\\n",
       "0   1         1       1       1   \n",
       "1   2         1       1       1   \n",
       "2   3         1       1       1   \n",
       "3   4         1       0       0   \n",
       "4   5         1       2       2   \n",
       "\n",
       "                                           EssayText  \n",
       "0  Some additional information that we would need...  \n",
       "1  After reading the expirement, I realized that ...  \n",
       "2  What you need is more trials, a control set up...  \n",
       "3  The student should list what rock is better an...  \n",
       "4  For the students to be able to make a replicat...  "
      ]
     },
     "execution_count": 8,
     "metadata": {},
     "output_type": "execute_result"
    }
   ],
   "source": [
    "import pandas as pd\n",
    "df = pd.read_csv(\"train.tsv\", sep='\\t', encoding=\"utf-8\")\n",
    "df.head()\n",
    "\n",
    "# # counter=0\n",
    "# for num in range(1, 10):\n",
    "#     counter = 0\n",
    "#     for indX in df['EssaySet']:\n",
    "# #     print(indX)\n",
    "#         if indX == num:\n",
    "#             counter+=1\n",
    "#     print(num, counter)\n"
   ]
  },
  {
   "cell_type": "code",
   "execution_count": 363,
   "metadata": {
    "collapsed": false
   },
   "outputs": [
    {
     "name": "stdout",
     "output_type": "stream",
     "text": [
      "1640\n",
      "984 328 328\n",
      "Sum 1640\n",
      "Train len 984\n",
      "656\n",
      "Dev len 328\n",
      "Test len 328\n"
     ]
    }
   ],
   "source": [
    "import random\n",
    "df_1 = df.loc[df['EssaySet'] == 10]\n",
    "df_1.head(100)\n",
    "df1_len = len(df_1)\n",
    "print(df1_len)\n",
    "train_size = int(0.6*df1_len)\n",
    "dev_size = int(0.2*df1_len)\n",
    "test_size = int(0.2*df1_len)\n",
    "\n",
    "print(train_size, dev_size, test_size)\n",
    "print(\"Sum\", train_size + dev_size + test_size)\n",
    "\n",
    "df_id = df_1['Id']\n",
    "\n",
    "list_num = []\n",
    "for i in df_id:\n",
    "    list_num.append(i)\n",
    "# print(list_num)\n",
    "\n",
    "ids_train = random.sample(list_num, train_size)\n",
    "ids_train.sort()\n",
    "# print(ids_train)\n",
    "print(\"Train len\", len(ids_train))\n",
    "\n",
    "with open(\"fold_0/train_ids.txt\", 'a') as output:\n",
    "    for row in ids_train:\n",
    "        output.write(str(row) + '\\n')\n",
    "\n",
    "def Diff(li1, li2): \n",
    "    return (list(set(li1) - set(li2))) \n",
    "\n",
    "ids_left = Diff(list_num, ids_train)\n",
    "print(len(ids_left))\n",
    "# print(ids_left)\n",
    "\n",
    "dev_ids = []\n",
    "test_ids = []\n",
    "for i in range(len(ids_left)):\n",
    "    if i%2 == 0:\n",
    "        test_ids.append(ids_left[i])\n",
    "    else:\n",
    "        dev_ids.append(ids_left[i])\n",
    "print(\"Dev len\", len(dev_ids))\n",
    "print(\"Test len\", len(test_ids))\n",
    "\n",
    "with open(\"fold_0/dev_ids.txt\", 'a') as output:\n",
    "    for row in dev_ids:\n",
    "        output.write(str(row) + '\\n')\n",
    "        \n",
    "with open(\"fold_0/test_ids.txt\", 'a') as output:\n",
    "    for row in test_ids:\n",
    "        output.write(str(row) + '\\n')"
   ]
  },
  {
   "cell_type": "code",
   "execution_count": null,
   "metadata": {
    "collapsed": true
   },
   "outputs": [],
   "source": [
    "# "
   ]
  }
 ],
 "metadata": {
  "kernelspec": {
   "display_name": "Python 3",
   "language": "python",
   "name": "python3"
  },
  "language_info": {
   "codemirror_mode": {
    "name": "ipython",
    "version": 3
   },
   "file_extension": ".py",
   "mimetype": "text/x-python",
   "name": "python",
   "nbconvert_exporter": "python",
   "pygments_lexer": "ipython3",
   "version": "3.6.6"
  }
 },
 "nbformat": 4,
 "nbformat_minor": 2
}
